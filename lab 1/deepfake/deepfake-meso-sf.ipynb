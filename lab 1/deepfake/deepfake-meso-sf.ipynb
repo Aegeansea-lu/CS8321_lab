{
 "cells": [
  {
   "cell_type": "code",
   "execution_count": 1,
   "metadata": {
    "_cell_guid": "b1076dfc-b9ad-4769-8c92-a6c4dae69d19",
    "_uuid": "8f2839f25d086af736a60e9eeb907d3b93b6e0e5"
   },
   "outputs": [],
   "source": [
    "# This Python 3 environment comes with many helpful analytics libraries installed\n",
    "# It is defined by the kaggle/python docker image: https://github.com/kaggle/docker-python\n",
    "# For example, here's several helpful packages to load in \n",
    "\n",
    "# import numpy as np # linear algebra\n",
    "# import pandas as pd # data processing, CSV file I/O (e.g. pd.read_csv)\n",
    "\n",
    "# Input data files are available in the \"../input/\" directory.\n",
    "# For example, running this (by clicking run or pressing Shift+Enter) will list all files under the input directory\n",
    "\n",
    "# import os\n",
    "# for dirname, _, filenames in os.walk('/kaggle/input'):\n",
    "#     for filename in filenames:\n",
    "#         print(os.path.join(dirname, filename))\n",
    "\n",
    "# Any results you write to the current directory are saved as output."
   ]
  },
  {
   "cell_type": "code",
   "execution_count": 2,
   "metadata": {
    "_cell_guid": "79c7e3d0-c299-4dcb-8224-4455121ee9b0",
    "_uuid": "d629ff2d2480ee46fbb7e2d37f6b5fab8052498a"
   },
   "outputs": [],
   "source": [
    "import json\n",
    "import os\n",
    "import tqdm\n",
    "import numpy as np\n",
    "import pandas as pd\n",
    "import torch\n",
    "import torch.nn as nn\n",
    "import torch.nn.functional as F\n",
    "import torchvision.transforms.functional as t_F\n",
    "import torchvision.models as models\n",
    "import torchvision.transforms as transforms\n",
    "import torch.utils.data as data\n",
    "import torchvision\n",
    "from torch.autograd import Variable\n",
    "from torch.utils.data import Dataset\n",
    "import cv2"
   ]
  },
  {
   "cell_type": "code",
   "execution_count": 3,
   "metadata": {},
   "outputs": [],
   "source": [
    "# set path\n",
    "data_path = \"/kaggle/input/deepfake-detection-challenge/test_videos\"\n",
    "save_model_path = \"/kaggle/input/single-frame/\""
   ]
  },
  {
   "cell_type": "code",
   "execution_count": 4,
   "metadata": {},
   "outputs": [],
   "source": [
    "class MesoInception4(nn.Module):\n",
    "    \"\"\"\n",
    "    Pytorch Implemention of MesoInception4\n",
    "    Author: Honggu Liu\n",
    "    Date: July 7, 2019\n",
    "    \"\"\"\n",
    "    def __init__(self, num_classes=2):\n",
    "        super(MesoInception4, self).__init__()\n",
    "        self.num_classes = num_classes\n",
    "        #InceptionLayer1\n",
    "        self.Incption1_conv1 = nn.Conv2d(3, 1, 1, padding=0, bias=False)\n",
    "        self.Incption1_conv2_1 = nn.Conv2d(3, 4, 1, padding=0, bias=False)\n",
    "        self.Incption1_conv2_2 = nn.Conv2d(4, 4, 3, padding=1, bias=False)\n",
    "        self.Incption1_conv3_1 = nn.Conv2d(3, 4, 1, padding=0, bias=False)\n",
    "        self.Incption1_conv3_2 = nn.Conv2d(4, 4, 3, padding=2, dilation=2, bias=False)\n",
    "        self.Incption1_conv4_1 = nn.Conv2d(3, 2, 1, padding=0, bias=False)\n",
    "        self.Incption1_conv4_2 = nn.Conv2d(2, 2, 3, padding=3, dilation=3, bias=False)\n",
    "        self.Incption1_bn = nn.BatchNorm2d(11)\n",
    "\n",
    "\n",
    "        #InceptionLayer2\n",
    "        self.Incption2_conv1 = nn.Conv2d(11, 2, 1, padding=0, bias=False)\n",
    "        self.Incption2_conv2_1 = nn.Conv2d(11, 4, 1, padding=0, bias=False)\n",
    "        self.Incption2_conv2_2 = nn.Conv2d(4, 4, 3, padding=1, bias=False)\n",
    "        self.Incption2_conv3_1 = nn.Conv2d(11, 4, 1, padding=0, bias=False)\n",
    "        self.Incption2_conv3_2 = nn.Conv2d(4, 4, 3, padding=2, dilation=2, bias=False)\n",
    "        self.Incption2_conv4_1 = nn.Conv2d(11, 2, 1, padding=0, bias=False)\n",
    "        self.Incption2_conv4_2 = nn.Conv2d(2, 2, 3, padding=3, dilation=3, bias=False)\n",
    "        self.Incption2_bn = nn.BatchNorm2d(12)\n",
    "\n",
    "        #Normal Layer\n",
    "        self.conv1 = nn.Conv2d(12, 16, 5, padding=2, bias=False)\n",
    "        self.relu = nn.ReLU(inplace=True)\n",
    "        self.leakyrelu = nn.LeakyReLU(0.1)\n",
    "        self.bn1 = nn.BatchNorm2d(16)\n",
    "        self.maxpooling1 = nn.MaxPool2d(kernel_size=(2, 2))\n",
    "\n",
    "        self.conv2 = nn.Conv2d(16, 16, 5, padding=2, bias=False)\n",
    "        self.maxpooling2 = nn.MaxPool2d(kernel_size=(4, 4))\n",
    "\n",
    "        self.dropout = nn.Dropout2d(0.5)\n",
    "        self.fc1 = nn.Linear(16*8*8, 16)\n",
    "        self.fc2 = nn.Linear(16, num_classes)\n",
    "\n",
    "\n",
    "    #InceptionLayer\n",
    "    def InceptionLayer1(self, input):\n",
    "        x1 = self.Incption1_conv1(input)\n",
    "        x2 = self.Incption1_conv2_1(input)\n",
    "        x2 = self.Incption1_conv2_2(x2)\n",
    "        x3 = self.Incption1_conv3_1(input)\n",
    "        x3 = self.Incption1_conv3_2(x3)\n",
    "        x4 = self.Incption1_conv4_1(input)\n",
    "        x4 = self.Incption1_conv4_2(x4)\n",
    "        y = torch.cat((x1, x2, x3, x4), 1)\n",
    "        y = self.Incption1_bn(y)\n",
    "        y = self.maxpooling1(y)\n",
    "\n",
    "        return y\n",
    "\n",
    "    def InceptionLayer2(self, input):\n",
    "        x1 = self.Incption2_conv1(input)\n",
    "        x2 = self.Incption2_conv2_1(input)\n",
    "        x2 = self.Incption2_conv2_2(x2)\n",
    "        x3 = self.Incption2_conv3_1(input)\n",
    "        x3 = self.Incption2_conv3_2(x3)\n",
    "        x4 = self.Incption2_conv4_1(input)\n",
    "        x4 = self.Incption2_conv4_2(x4)\n",
    "        y = torch.cat((x1, x2, x3, x4), 1)\n",
    "        y = self.Incption2_bn(y)\n",
    "        y = self.maxpooling1(y)\n",
    "\n",
    "        return y\n",
    "\n",
    "    def forward(self, input):\n",
    "        x = self.InceptionLayer1(input) #(Batch, 11, 128, 128)\n",
    "        x = self.InceptionLayer2(x) #(Batch, 12, 64, 64)\n",
    "\n",
    "        x = self.conv1(x) #(Batch, 16, 64 ,64)\n",
    "        x = self.relu(x)\n",
    "        x = self.bn1(x)\n",
    "        x = self.maxpooling1(x) #(Batch, 16, 32, 32)\n",
    "\n",
    "        x = self.conv2(x) #(Batch, 16, 32, 32)\n",
    "        x = self.relu(x)\n",
    "        x = self.bn1(x)\n",
    "        x = self.maxpooling2(x) #(Batch, 16, 8, 8)\n",
    "\n",
    "        x = x.view(x.size(0), -1) #(Batch, 16*8*8)\n",
    "        x = self.dropout(x)\n",
    "        x = self.fc1(x) #(Batch, 16)\n",
    "        x = self.leakyrelu(x)\n",
    "        x = self.dropout(x)\n",
    "        x = self.fc2(x)\n",
    "\n",
    "        return x"
   ]
  },
  {
   "cell_type": "code",
   "execution_count": 5,
   "metadata": {},
   "outputs": [],
   "source": [
    "def face_detect(frame):\n",
    "    \n",
    "    face_cascade = cv2.CascadeClassifier('/kaggle/input/single-frame/haarcascade_frontalface_default.xml')\n",
    "    gray = cv2.cvtColor(frame, cv2.COLOR_BGR2GRAY)\n",
    "    # Resize frame of video to 1/4 size for faster face detection processing\n",
    "    small_frame = cv2.resize(gray, (0, 0), fx=0.25, fy=0.25)\n",
    "    # Detect the faces\n",
    "    faces = face_cascade.detectMultiScale(small_frame, 1.1, 4)\n",
    "    return faces\n",
    "\n",
    "\n",
    "def readVideo(videoFile):\n",
    "\n",
    "    max_attempts = 60\n",
    "    # Open the video file\n",
    "    cap = cv2.VideoCapture(videoFile)\n",
    "    transform = transforms.Compose([\n",
    "        transforms.Resize((256, 256)),\n",
    "        transforms.ToTensor(),\n",
    "        transforms.Normalize([0.5]*3, [0.5]*3)\n",
    "    ])\n",
    "    #cap.set(1, self.frame_no)\n",
    "    # nFrames = int(cap.get(cv2.CAP_PROP_FRAME_COUNT))\n",
    "    # frames = torch.FloatTensor(self.channels, self.timeDepth, self.xSize, self.ySize)\n",
    "\n",
    "    attempts = 0\n",
    "    while attempts < max_attempts:\n",
    "        ret, frame = cap.read()\n",
    "        attempts += 1\n",
    "        if ret:\n",
    "            last_good_frame = frame\n",
    "            try:\n",
    "                faces = face_detect(frame)\n",
    "                # Face detected\n",
    "                if len(faces) > 0:\n",
    "                    # Get the face, if more than two, use the whole frame\n",
    "                    if len(faces) > 1:\n",
    "                        break\n",
    "                    x, y, w, h = faces[0] * 4\n",
    "                    x -= 40\n",
    "                    y -= 40\n",
    "                    w += 80\n",
    "                    h += 80\n",
    "                    face_img = frame[y: y + h, x: x + w]\n",
    "                    frame = torch.from_numpy(face_img)\n",
    "                    # HWC2CHW\n",
    "                    frame = frame.permute(2, 0, 1)\n",
    "                    frame = t_F.to_pil_image(frame)\n",
    "                    frame = transform(frame)\n",
    "                    cap.release()\n",
    "                    return frame\n",
    "            except:\n",
    "                print(\"Face detection error\")\n",
    "        else:\n",
    "            break\n",
    "\n",
    "    frame = torch.from_numpy(last_good_frame)\n",
    "    # HWC2CHW\n",
    "    frame = frame.permute(2, 0, 1)\n",
    "    frame = t_F.to_pil_image(frame)\n",
    "    frame = transform(frame)\n",
    "    cap.release()\n",
    "    return frame"
   ]
  },
  {
   "cell_type": "code",
   "execution_count": 6,
   "metadata": {},
   "outputs": [],
   "source": [
    "def test(model, device, test_vidoes):\n",
    "    # set model as testing mode\n",
    "    output_file = 'submission.csv'\n",
    "    if os.path.exists(output_file):\n",
    "        os.remove(output_file)      \n",
    "    cnn_encoder= model\n",
    "    cnn_encoder.eval()\n",
    "\n",
    "    results = {}\n",
    "    with torch.no_grad():\n",
    "        for video_file in tqdm.tqdm(test_vidoes):\n",
    "            file_name = video_file.split('/')[-1]\n",
    "            # Make prediction\n",
    "            try:\n",
    "                X = readVideo(video_file)\n",
    "                X = X.to(device)\n",
    "                # y = y.to(device).view(-1, )\n",
    "                X = X.unsqueeze(0)\n",
    "                output = cnn_encoder(X)\n",
    "                output_prob = F.softmax(output, dim=1)\n",
    "                results[file_name] = output_prob[0][1].item()\n",
    "            except:\n",
    "                results[file_name] = 0.5\n",
    "                \n",
    "    df =  pd.DataFrame([results.keys(), results.values()]).T\n",
    "    df.columns = ['filename', 'label']\n",
    "    df.fillna(0.5)\n",
    "    df.to_csv(output_file, sep=',', index=False)\n",
    "    print(\"Finished prediction!!!\")"
   ]
  },
  {
   "cell_type": "code",
   "execution_count": 7,
   "metadata": {},
   "outputs": [],
   "source": [
    "def get_videos(data_folder):\n",
    "    video_files = []\n",
    "    videos = os.listdir(data_folder)\n",
    "    for v in videos:\n",
    "        if v.endswith('mp4'):\n",
    "            video_files.append(os.path.join(data_folder, v))\n",
    "    return video_files"
   ]
  },
  {
   "cell_type": "code",
   "execution_count": 8,
   "metadata": {},
   "outputs": [],
   "source": [
    "# Detect devices\n",
    "use_cuda = torch.cuda.is_available()                   # check if GPU exists\n",
    "device = torch.device(\"cuda\" if use_cuda else \"cpu\")   # use CPU or GPU\n",
    "video_files = get_videos(data_path)"
   ]
  },
  {
   "cell_type": "code",
   "execution_count": 9,
   "metadata": {},
   "outputs": [
    {
     "data": {
      "text/plain": [
       "<All keys matched successfully>"
      ]
     },
     "execution_count": 9,
     "metadata": {},
     "output_type": "execute_result"
    }
   ],
   "source": [
    "# Create model\n",
    "model_ft = MesoInception4().to(device)\n",
    "\n",
    "# Load model\n",
    "encoder_model_path = os.path.join(save_model_path, 'v1_meso_encoder_epoch1.pth')\n",
    "model_ft.load_state_dict(torch.load(encoder_model_path))"
   ]
  },
  {
   "cell_type": "code",
   "execution_count": 10,
   "metadata": {},
   "outputs": [
    {
     "name": "stderr",
     "output_type": "stream",
     "text": [
      "  2%|▏         | 9/400 [00:06<08:55,  1.37s/it]"
     ]
    },
    {
     "name": "stdout",
     "output_type": "stream",
     "text": [
      "Face detection error\n",
      "Face detection error\n",
      "Face detection error\n",
      "Face detection error\n"
     ]
    },
    {
     "name": "stderr",
     "output_type": "stream",
     "text": [
      "  2%|▎         | 10/400 [00:07<07:04,  1.09s/it]"
     ]
    },
    {
     "name": "stdout",
     "output_type": "stream",
     "text": [
      "Face detection error\n",
      "Face detection error\n"
     ]
    },
    {
     "name": "stderr",
     "output_type": "stream",
     "text": [
      " 54%|█████▍    | 215/400 [03:30<03:19,  1.08s/it]"
     ]
    },
    {
     "name": "stdout",
     "output_type": "stream",
     "text": [
      "Face detection error\n"
     ]
    },
    {
     "name": "stderr",
     "output_type": "stream",
     "text": [
      " 56%|█████▌    | 224/400 [03:42<01:21,  2.15it/s]"
     ]
    },
    {
     "name": "stdout",
     "output_type": "stream",
     "text": [
      "Face detection error\n",
      "Face detection error\n",
      "Face detection error\n"
     ]
    },
    {
     "name": "stderr",
     "output_type": "stream",
     "text": [
      " 64%|██████▍   | 257/400 [04:30<03:12,  1.35s/it]"
     ]
    },
    {
     "name": "stdout",
     "output_type": "stream",
     "text": [
      "Face detection error\n",
      "Face detection error\n",
      "Face detection error\n",
      "Face detection error\n",
      "Face detection error\n",
      "Face detection error\n",
      "Face detection error\n",
      "Face detection error\n"
     ]
    },
    {
     "name": "stderr",
     "output_type": "stream",
     "text": [
      "100%|██████████| 400/400 [07:06<00:00,  1.07s/it]\n"
     ]
    },
    {
     "name": "stdout",
     "output_type": "stream",
     "text": [
      "Finished prediction!!!\n"
     ]
    }
   ],
   "source": [
    "# Predict\n",
    "test(model_ft, device, video_files)"
   ]
  },
  {
   "cell_type": "code",
   "execution_count": null,
   "metadata": {},
   "outputs": [],
   "source": []
  }
 ],
 "metadata": {
  "kernelspec": {
   "display_name": "Python 3 (ipykernel)",
   "language": "python",
   "name": "python3"
  },
  "language_info": {
   "codemirror_mode": {
    "name": "ipython",
    "version": 3
   },
   "file_extension": ".py",
   "mimetype": "text/x-python",
   "name": "python",
   "nbconvert_exporter": "python",
   "pygments_lexer": "ipython3",
   "version": "3.8.12"
  }
 },
 "nbformat": 4,
 "nbformat_minor": 1
}
